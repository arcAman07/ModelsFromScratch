{
  "nbformat": 4,
  "nbformat_minor": 0,
  "metadata": {
    "colab": {
      "name": "trial_Unet.ipynb",
      "provenance": []
    },
    "kernelspec": {
      "name": "python3",
      "display_name": "Python 3"
    },
    "language_info": {
      "name": "python"
    }
  },
  "cells": [
    {
      "cell_type": "code",
      "execution_count": 30,
      "metadata": {
        "id": "EF0veEpaJWa9"
      },
      "outputs": [],
      "source": [
        "import torch\n",
        "import torch.nn as nn"
      ]
    },
    {
      "cell_type": "code",
      "source": [
        "input = torch.arange(1, 5, dtype=torch.float32).view(1, 1, 2, 2)"
      ],
      "metadata": {
        "id": "23Y68mimJXUt"
      },
      "execution_count": 31,
      "outputs": []
    },
    {
      "cell_type": "code",
      "source": [
        "input.shape"
      ],
      "metadata": {
        "colab": {
          "base_uri": "https://localhost:8080/"
        },
        "id": "CNHX9lTxJcGx",
        "outputId": "f839464b-d62e-4cf7-d338-9c94b5f459ce"
      },
      "execution_count": 32,
      "outputs": [
        {
          "output_type": "execute_result",
          "data": {
            "text/plain": [
              "torch.Size([1, 1, 2, 2])"
            ]
          },
          "metadata": {},
          "execution_count": 32
        }
      ]
    },
    {
      "cell_type": "code",
      "source": [
        "input"
      ],
      "metadata": {
        "colab": {
          "base_uri": "https://localhost:8080/"
        },
        "id": "u28TJ9QOKUYd",
        "outputId": "9400bbb1-0f07-4230-b410-049652cd6a48"
      },
      "execution_count": 33,
      "outputs": [
        {
          "output_type": "execute_result",
          "data": {
            "text/plain": [
              "tensor([[[[1., 2.],\n",
              "          [3., 4.]]]])"
            ]
          },
          "metadata": {},
          "execution_count": 33
        }
      ]
    },
    {
      "cell_type": "code",
      "source": [
        "m = nn.Upsample(scale_factor=2, mode='bilinear', align_corners = True)"
      ],
      "metadata": {
        "id": "L5qflpsMJcJm"
      },
      "execution_count": 57,
      "outputs": []
    },
    {
      "cell_type": "code",
      "source": [
        "output = m(input)"
      ],
      "metadata": {
        "id": "8ZIeJ2DQJcMq"
      },
      "execution_count": 58,
      "outputs": []
    },
    {
      "cell_type": "code",
      "source": [
        "output.shape"
      ],
      "metadata": {
        "colab": {
          "base_uri": "https://localhost:8080/"
        },
        "id": "aUzL3UG9JcPo",
        "outputId": "db2842b8-0f0d-46a8-af95-749796b3e80c"
      },
      "execution_count": 59,
      "outputs": [
        {
          "output_type": "execute_result",
          "data": {
            "text/plain": [
              "torch.Size([1, 1, 4, 4])"
            ]
          },
          "metadata": {},
          "execution_count": 59
        }
      ]
    },
    {
      "cell_type": "code",
      "source": [
        "input_1 = torch.arange(1, 512*56*56 + 1, dtype=torch.float32).view(1, 512, 56, 56)\n",
        "input_2 = torch.arange(1, 512*64*64 + 1, dtype=torch.float32).view(1, 512, 64, 64)\n",
        "input_3 = torch.arange(1, 512*56*56 + 1, dtype=torch.float32).view(1, 512, 56, 56)"
      ],
      "metadata": {
        "id": "5B4LaJ3SJcSY"
      },
      "execution_count": 60,
      "outputs": []
    },
    {
      "cell_type": "code",
      "source": [
        "output_1 = torch.cat((input_1, input_1), dim=1)"
      ],
      "metadata": {
        "id": "I9YR8MTMJXXf"
      },
      "execution_count": 62,
      "outputs": []
    },
    {
      "cell_type": "code",
      "source": [
        "output_1.shape"
      ],
      "metadata": {
        "colab": {
          "base_uri": "https://localhost:8080/"
        },
        "id": "WS_MbNlnJXaP",
        "outputId": "b348cb1b-054d-4c37-b3b2-af798690b64c"
      },
      "execution_count": 63,
      "outputs": [
        {
          "output_type": "execute_result",
          "data": {
            "text/plain": [
              "torch.Size([1, 1024, 56, 56])"
            ]
          },
          "metadata": {},
          "execution_count": 63
        }
      ]
    },
    {
      "cell_type": "code",
      "source": [
        "m1 = nn.Upsample(scale_factor=56/64, mode='bilinear', align_corners = True)"
      ],
      "metadata": {
        "id": "pK5TXMCpJXc1"
      },
      "execution_count": 64,
      "outputs": []
    },
    {
      "cell_type": "code",
      "source": [
        "output_2 = torch.cat((input_1, m1(input_2)), dim=1)"
      ],
      "metadata": {
        "id": "w5gvlRdYJXfm"
      },
      "execution_count": 66,
      "outputs": []
    },
    {
      "cell_type": "code",
      "source": [
        "output_2.shape"
      ],
      "metadata": {
        "colab": {
          "base_uri": "https://localhost:8080/"
        },
        "id": "k4ZSn9JVcfqZ",
        "outputId": "ecd4c977-6bc0-4dc3-fb14-9bee648587cc"
      },
      "execution_count": 67,
      "outputs": [
        {
          "output_type": "execute_result",
          "data": {
            "text/plain": [
              "torch.Size([1, 1024, 56, 56])"
            ]
          },
          "metadata": {},
          "execution_count": 67
        }
      ]
    },
    {
      "cell_type": "code",
      "source": [],
      "metadata": {
        "id": "3WnNp2Ldcfug"
      },
      "execution_count": null,
      "outputs": []
    }
  ]
}