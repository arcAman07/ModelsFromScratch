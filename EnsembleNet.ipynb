{
  "nbformat": 4,
  "nbformat_minor": 0,
  "metadata": {
    "colab": {
      "provenance": []
    },
    "kernelspec": {
      "name": "python3",
      "display_name": "Python 3"
    },
    "language_info": {
      "name": "python"
    }
  },
  "cells": [
    {
      "cell_type": "code",
      "execution_count": 1,
      "metadata": {
        "id": "_0qNVAlCsuch"
      },
      "outputs": [],
      "source": [
        "import torch\n",
        "import torch.nn as nn\n",
        "import torch.nn.functional as F\n",
        "\n",
        "class ImageClassificationBase(nn.Module):\n",
        "  def training_step(self, batch):\n",
        "    images, labels = batch \n",
        "    out = self(images)                  # Generate predictions\n",
        "    loss = F.cross_entropy(out, labels) # Calculate loss\n",
        "    return loss\n",
        "    \n",
        "  def validation_step(self, batch):\n",
        "    images, labels = batch \n",
        "    out = self(images)                    # Generate predictions\n",
        "    loss = F.cross_entropy(out, labels)   # Calculate loss\n",
        "    acc = accuracy(out, labels)           # Calculate accuracy\n",
        "    return {'val_loss': loss.detach(), 'val_acc': acc}\n",
        "        \n",
        "  def validation_epoch_end(self, outputs):\n",
        "    batch_losses = [x['val_loss'] for x in outputs]\n",
        "    epoch_loss = torch.stack(batch_losses).mean()   # Combine losses\n",
        "    batch_accs = [x['val_acc'] for x in outputs]\n",
        "    epoch_acc = torch.stack(batch_accs).mean()      # Combine accuracies\n",
        "    return {'val_loss': epoch_loss.item(), 'val_acc': epoch_acc.item()}\n",
        "    \n",
        "  def epoch_end(self, epoch, result):\n",
        "    print(\"Epoch [{}], train_loss: {:.4f}, val_loss: {:.4f}, val_acc: {:.4f}\".format(\n",
        "            epoch, result['train_loss'], result['val_loss'], result['val_acc']))"
      ]
    },
    {
      "cell_type": "code",
      "source": [
        "class M3_Model(ImageClassificationBase):\n",
        "  def __init__(self, in_channels = 1, out_channels = 32, kernel_size = 3, bias = False, stride = 1, padding = 0):\n",
        "    super(M3_Model, self).__init__()\n",
        "    self.network = nn.Sequential(\n",
        "      nn.Conv2d(in_channels, out_channels, kernel_size, stride, padding, bias = False),\n",
        "      nn.BatchNorm2d(out_channels),\n",
        "      nn.ReLU(),\n",
        "      nn.Conv2d(out_channels, 48, kernel_size,stride, padding, bias = False),\n",
        "      nn.BatchNorm2d(48),\n",
        "      nn.ReLU(),\n",
        "      nn.Conv2d(48, 64, kernel_size, stride, padding, bias = False),\n",
        "      nn.BatchNorm2d(64),\n",
        "      nn.ReLU(),\n",
        "      nn.Conv2d(64, 80, kernel_size, stride, padding, bias = False),\n",
        "      nn.BatchNorm2d(80),\n",
        "      nn.ReLU(),\n",
        "      nn.Conv2d(80, 96, kernel_size, stride, padding, bias = False),\n",
        "      nn.BatchNorm2d(96),\n",
        "      nn.ReLU(),\n",
        "      nn.Conv2d(96, 112, kernel_size, stride, padding, bias = False),\n",
        "      nn.BatchNorm2d(112),\n",
        "      nn.ReLU(),\n",
        "      nn.Conv2d(112, 128, kernel_size, stride, padding, bias = False),\n",
        "      nn.BatchNorm2d(128),\n",
        "      nn.ReLU(),\n",
        "      nn.Conv2d(128, 144, kernel_size, stride, padding, bias = False),\n",
        "      nn.BatchNorm2d(144),\n",
        "      nn.ReLU(),\n",
        "      nn.Conv2d(144, 160, kernel_size, stride, padding, bias = False),\n",
        "      nn.BatchNorm2d(160),\n",
        "      nn.ReLU(),\n",
        "      nn.Conv2d(160, 176, kernel_size, stride, padding, bias = False),\n",
        "      nn.BatchNorm2d(176),\n",
        "      nn.ReLU(),\n",
        "    )\n",
        "    self.fc = nn.Linear(11264, 10, bias = False)\n",
        "    self.bn = nn.BatchNorm1d(10)\n",
        "  \n",
        "  def forward(self, x):\n",
        "    x = self.network(x)\n",
        "    x = x.view(x.size(0), -1)\n",
        "    x = self.bn(self.fc(x))\n",
        "    return x\n",
        "\n",
        "def test():\n",
        "  model = M3_Model()\n",
        "  inputs = torch.randn((3,1,28,28))\n",
        "  output = model(inputs)\n",
        "  print(output.shape)\n",
        "  print(output)"
      ],
      "metadata": {
        "id": "VfUUGbLPtbiC"
      },
      "execution_count": 2,
      "outputs": []
    },
    {
      "cell_type": "code",
      "source": [
        "test()"
      ],
      "metadata": {
        "colab": {
          "base_uri": "https://localhost:8080/"
        },
        "id": "Gw8YJtuDtbkb",
        "outputId": "9c166a9e-8a4b-4f70-ee21-69e791c04389"
      },
      "execution_count": 3,
      "outputs": [
        {
          "output_type": "stream",
          "name": "stdout",
          "text": [
            "torch.Size([3, 10])\n",
            "tensor([[-0.4233, -1.0848, -1.4092, -0.8198,  0.7807, -1.1435, -1.0943,  1.0409,\n",
            "          0.9850,  1.3827],\n",
            "        [ 1.3789, -0.2432,  0.8069, -0.5881, -1.3328,  1.2922,  1.3224, -1.3494,\n",
            "          0.3862, -0.9369],\n",
            "        [-0.9555,  1.3280,  0.6023,  1.4078,  0.5521, -0.1488, -0.2281,  0.3084,\n",
            "         -1.3713, -0.4458]], grad_fn=<NativeBatchNormBackward0>)\n"
          ]
        }
      ]
    },
    {
      "cell_type": "code",
      "source": [
        "class M5_Model(ImageClassificationBase):\n",
        "  def __init__(self, in_channels = 1, out_channels = 32, kernel_size = 5, stride = 1, padding  = 0, bias = False):\n",
        "    super(M5_Model, self).__init__()\n",
        "    self.network = nn.Sequential(\n",
        "      nn.Conv2d(in_channels, out_channels, kernel_size, stride, padding, bias = False),\n",
        "      nn.BatchNorm2d(out_channels),\n",
        "      nn.ReLU(),\n",
        "      nn.Conv2d(32, 64, kernel_size, stride, padding, bias = False),\n",
        "      nn.BatchNorm2d(64),\n",
        "      nn.ReLU(),\n",
        "      nn.Conv2d(64, 96, kernel_size, stride, padding, bias = False),\n",
        "      nn.BatchNorm2d(96),\n",
        "      nn.ReLU(),\n",
        "      nn.Conv2d(96, 128, kernel_size, stride, padding, bias = False),\n",
        "      nn.BatchNorm2d(128),\n",
        "      nn.ReLU(),\n",
        "      nn.Conv2d(128, 160, kernel_size, stride, padding, bias = False),\n",
        "      nn.BatchNorm2d(160),\n",
        "      nn.ReLU(),\n",
        "    )\n",
        "    self.fc = nn.Linear(10240, 10, bias = False)\n",
        "    self.bn = nn.BatchNorm1d(10)\n",
        "\n",
        "  def forward(self, x):\n",
        "    x = self.network(x)\n",
        "    x = x.view(x.size(0), -1)\n",
        "    x = self.fc(x)\n",
        "    x = self.bn(x)\n",
        "    return x\n",
        "  \n",
        "def test():\n",
        "  model = M5_Model()\n",
        "  inputs = torch.randn((3,1,28,28))\n",
        "  output = model(inputs)\n",
        "  print(output.shape)\n",
        "  print(output)"
      ],
      "metadata": {
        "id": "QjP5S_tctbmo"
      },
      "execution_count": 4,
      "outputs": []
    },
    {
      "cell_type": "code",
      "source": [
        "test()"
      ],
      "metadata": {
        "colab": {
          "base_uri": "https://localhost:8080/"
        },
        "id": "eT_irw0htbo3",
        "outputId": "9d8e1544-c49d-42f7-b6f0-4c15e3fad458"
      },
      "execution_count": 5,
      "outputs": [
        {
          "output_type": "stream",
          "name": "stdout",
          "text": [
            "torch.Size([3, 10])\n",
            "tensor([[ 1.3757,  1.2810, -1.0306,  0.0274,  0.1801,  1.3943, -0.6188,  1.1099,\n",
            "         -1.4136, -1.2312],\n",
            "        [-0.9705, -1.1593,  1.3535,  1.2107,  1.1245, -0.4933,  1.4106, -1.3131,\n",
            "          0.7382,  0.0132],\n",
            "        [-0.4051, -0.1217, -0.3229, -1.2381, -1.3046, -0.9010, -0.7918,  0.2032,\n",
            "          0.6754,  1.2179]], grad_fn=<NativeBatchNormBackward0>)\n"
          ]
        }
      ]
    },
    {
      "cell_type": "code",
      "source": [
        "class M7_Model(ImageClassificationBase):\n",
        "  def __init__(self, in_channels = 1, out_channels = 48, kernel_size = 7, padding = 0, bias = False, stride = 1):\n",
        "    super(M7_Model, self).__init__()\n",
        "    self.network = nn.Sequential(\n",
        "      nn.Conv2d(in_channels, out_channels, kernel_size,stride, padding, bias = False),\n",
        "      nn.BatchNorm2d(out_channels),\n",
        "      nn.ReLU(),\n",
        "      nn.Conv2d(out_channels, 96, kernel_size,stride, padding, bias = False),\n",
        "      nn.BatchNorm2d(96),\n",
        "      nn.ReLU(),\n",
        "      nn.Conv2d(96, 144, kernel_size,stride, padding, bias = False),\n",
        "      nn.BatchNorm2d(144),\n",
        "      nn.ReLU(),\n",
        "      nn.Conv2d(144, 192, kernel_size, stride, padding, bias = False),\n",
        "      nn.BatchNorm2d(192),\n",
        "      nn.ReLU(),\n",
        "    )\n",
        "\n",
        "    self.fc = nn.Linear(192*4*4, 10, bias = False)\n",
        "    self.bn = nn.BatchNorm1d(10)\n",
        "\n",
        "  def forward(self, x):\n",
        "    x = self.network(x)\n",
        "    x = x.view(x.size(0), -1)\n",
        "    x = self.bn(self.fc(x))\n",
        "    return x\n",
        "\n",
        "def test():\n",
        "  model = M7_Model()\n",
        "  inputs = torch.randn((3,1,28,28))\n",
        "  output = model(inputs)\n",
        "  print(output.shape)\n",
        "  print(output)"
      ],
      "metadata": {
        "id": "4XnEs0_QtbrN"
      },
      "execution_count": 7,
      "outputs": []
    },
    {
      "cell_type": "code",
      "source": [
        "test()"
      ],
      "metadata": {
        "colab": {
          "base_uri": "https://localhost:8080/"
        },
        "id": "fHkB1a_Atbtk",
        "outputId": "956f134d-500f-41a0-bfd9-579858b98134"
      },
      "execution_count": 8,
      "outputs": [
        {
          "output_type": "stream",
          "name": "stdout",
          "text": [
            "torch.Size([3, 10])\n",
            "tensor([[ 1.4001, -1.3585,  1.2619,  1.3719, -0.5905, -0.8376,  0.5393, -1.3959,\n",
            "          1.2628,  1.3034],\n",
            "        [-0.8724,  1.0189, -0.0782, -0.9820,  1.4079,  1.4054, -1.4018,  0.5019,\n",
            "         -0.0810, -0.1773],\n",
            "        [-0.5277,  0.3396, -1.1837, -0.3899, -0.8174, -0.5677,  0.8625,  0.8940,\n",
            "         -1.1818, -1.1262]], grad_fn=<NativeBatchNormBackward0>)\n"
          ]
        }
      ]
    },
    {
      "cell_type": "code",
      "source": [
        "import torchvision\n",
        "import torch\n",
        "import torch.nn as nn\n",
        "from torch.utils.data import Dataset\n",
        "from torchvision import datasets\n",
        "from torchvision import transforms\n",
        "from torchvision.transforms import ToTensor\n",
        "from torchvision.transforms import Resize\n",
        "import matplotlib.pyplot as plt\n",
        "import torch.nn.functional as F\n",
        "import torch.optim as optim\n",
        "from torchvision.transforms import ToTensor, Normalize, Compose\n",
        "from torch.utils.data.dataloader import DataLoader\n",
        "\n",
        "batch_size=128"
      ],
      "metadata": {
        "id": "co1nV_4ntbwC"
      },
      "execution_count": 17,
      "outputs": []
    },
    {
      "cell_type": "code",
      "source": [
        "train_data = datasets.MNIST(\n",
        "    root=\"data\",\n",
        "    train=True,\n",
        "    download=True,\n",
        "    transform = ToTensor(),\n",
        ")\n",
        "\n",
        "test_data = datasets.MNIST(\n",
        "    root=\"data\",\n",
        "    train=False,\n",
        "    download=True,\n",
        "    transform = ToTensor(),\n",
        ")\n",
        "\n",
        "train_dl = DataLoader(train_data, batch_size, shuffle=True)\n",
        "val_dl = DataLoader(test_data, batch_size*2)"
      ],
      "metadata": {
        "id": "v6lwAwOGtbyX"
      },
      "execution_count": 18,
      "outputs": []
    },
    {
      "cell_type": "code",
      "source": [
        "def accuracy(outputs, labels):\n",
        "    _, preds = torch.max(outputs, dim=1)\n",
        "    return torch.tensor(torch.sum(preds == labels).item() / len(preds))"
      ],
      "metadata": {
        "id": "BH5p8Dwxtb1F"
      },
      "execution_count": 19,
      "outputs": []
    },
    {
      "cell_type": "code",
      "source": [
        "@torch.no_grad()\n",
        "def evaluate(model, val_loader):\n",
        "    model.eval()\n",
        "    outputs = [model.validation_step(batch) for batch in val_loader]\n",
        "    return model.validation_epoch_end(outputs)\n",
        "\n",
        "def fit(epochs, lr, model, train_loader, val_loader, opt_func=torch.optim.SGD):\n",
        "    history = []\n",
        "    optimizer = opt_func(model.parameters(), lr)\n",
        "    for epoch in range(epochs):\n",
        "        # Training Phase \n",
        "        model.train()\n",
        "        train_losses = []\n",
        "        for batch in train_loader:\n",
        "            loss = model.training_step(batch)\n",
        "            train_losses.append(loss)\n",
        "            loss.backward()\n",
        "            optimizer.step()\n",
        "            optimizer.zero_grad()\n",
        "        # Validation phase\n",
        "        result = evaluate(model, val_loader)\n",
        "        result['train_loss'] = torch.stack(train_losses).mean().item()\n",
        "        model.epoch_end(epoch, result)\n",
        "        history.append(result)\n",
        "    return history\n",
        "\n",
        "num_epochs = 20\n",
        "opt_func = torch.optim.Adam\n",
        "lr = 0.001"
      ],
      "metadata": {
        "id": "8Oe59MfXtb3b"
      },
      "execution_count": 20,
      "outputs": []
    },
    {
      "cell_type": "code",
      "source": [
        "model_1 = M3_Model()"
      ],
      "metadata": {
        "id": "mirkNl6m6WAI"
      },
      "execution_count": 21,
      "outputs": []
    },
    {
      "cell_type": "markdown",
      "source": [],
      "metadata": {
        "id": "rVf0eiEoF3f9"
      }
    },
    {
      "cell_type": "code",
      "source": [
        "fit(num_epochs, lr, model_1, train_dl, val_dl, opt_func)"
      ],
      "metadata": {
        "colab": {
          "base_uri": "https://localhost:8080/"
        },
        "id": "VvvUpW_etb5x",
        "outputId": "7164853a-6efd-4ba4-bffa-112a3e48becf"
      },
      "execution_count": null,
      "outputs": [
        {
          "metadata": {
            "tags": null
          },
          "name": "stdout",
          "output_type": "stream",
          "text": [
            "Epoch [0], train_loss: 0.3036, val_loss: 0.1683, val_acc: 0.9898\n"
          ]
        }
      ]
    },
    {
      "cell_type": "code",
      "source": [
        "model_2 = M5_Model()"
      ],
      "metadata": {
        "id": "GWTdxb6otb8H"
      },
      "execution_count": null,
      "outputs": []
    },
    {
      "cell_type": "code",
      "source": [
        "fit(num_epochs, lr, model_2, train_dl, val_dl, opt_func)"
      ],
      "metadata": {
        "id": "bJ8WsMuR6gV3"
      },
      "execution_count": null,
      "outputs": []
    },
    {
      "cell_type": "code",
      "source": [
        "model_3 = M7_Model()"
      ],
      "metadata": {
        "id": "nG4JfZQa6gYb"
      },
      "execution_count": null,
      "outputs": []
    },
    {
      "cell_type": "code",
      "source": [
        "fit(num_epochs, lr, model_3, train_dl, val_dl, opt_func)"
      ],
      "metadata": {
        "id": "LDrFlk1l6hDk"
      },
      "execution_count": null,
      "outputs": []
    },
    {
      "cell_type": "code",
      "source": [],
      "metadata": {
        "id": "YKqNgs3P7nmx"
      },
      "execution_count": null,
      "outputs": []
    }
  ]
}