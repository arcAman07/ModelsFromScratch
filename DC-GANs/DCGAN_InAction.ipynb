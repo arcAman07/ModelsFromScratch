{
  "nbformat": 4,
  "nbformat_minor": 0,
  "metadata": {
    "colab": {
      "provenance": []
    },
    "kernelspec": {
      "name": "python3",
      "display_name": "Python 3"
    },
    "language_info": {
      "name": "python"
    },
    "accelerator": "GPU",
    "gpuClass": "standard"
  },
  "cells": [
    {
      "cell_type": "code",
      "execution_count": 1,
      "metadata": {
        "id": "SKFxi7YK8EDF"
      },
      "outputs": [],
      "source": [
        "import torch\n",
        "import torch.nn as nn\n",
        "import numpy as np\n",
        "import torch.nn.functional as F"
      ]
    },
    {
      "cell_type": "code",
      "source": [
        "class ImageClassificationBase(nn.Module):\n",
        "    def training_step(self, batch):\n",
        "        images, labels = batch \n",
        "        out = self(images)                  # Generate predictions\n",
        "        loss = F.cross_entropy(out, labels) # Calculate loss\n",
        "        return loss\n",
        "    \n",
        "    def validation_step(self, batch):\n",
        "        images, labels = batch \n",
        "        out = self(images)                    # Generate predictions\n",
        "        loss = F.cross_entropy(out, labels)   # Calculate loss\n",
        "        acc = accuracy(out, labels)           # Calculate accuracy\n",
        "        return {'val_loss': loss.detach(), 'val_acc': acc}\n",
        "        \n",
        "    def validation_epoch_end(self, outputs):\n",
        "        batch_losses = [x['val_loss'] for x in outputs]\n",
        "        epoch_loss = torch.stack(batch_losses).mean()   # Combine losses\n",
        "        batch_accs = [x['val_acc'] for x in outputs]\n",
        "        epoch_acc = torch.stack(batch_accs).mean()      # Combine accuracies\n",
        "        return {'val_loss': epoch_loss.item(), 'val_acc': epoch_acc.item()}\n",
        "    \n",
        "    def epoch_end(self, epoch, result):\n",
        "        print(\"Epoch [{}], train_loss: {:.4f}, val_loss: {:.4f}, val_acc: {:.4f}\".format(\n",
        "            epoch, result['train_loss'], result['val_loss'], result['val_acc']))\n",
        "        \n",
        "def accuracy(outputs, labels):\n",
        "    _, preds = torch.max(outputs, dim=1)"
      ],
      "metadata": {
        "id": "KZDw17qg8HFb"
      },
      "execution_count": 2,
      "outputs": []
    },
    {
      "cell_type": "code",
      "source": [
        "device = torch.device('cuda' if torch.cuda.is_available() else 'cpu')\n",
        "print(device)"
      ],
      "metadata": {
        "colab": {
          "base_uri": "https://localhost:8080/"
        },
        "id": "cMcn3d0J8HIF",
        "outputId": "65201c73-16e3-4835-c0fd-f6bd9d1c7023"
      },
      "execution_count": 3,
      "outputs": [
        {
          "output_type": "stream",
          "name": "stdout",
          "text": [
            "cuda\n"
          ]
        }
      ]
    },
    {
      "cell_type": "code",
      "source": [
        "class Generator(nn.Module):\n",
        "  def __init__(self, z_dim, channels_img, features_g ):\n",
        "    super(Generator, self).__init__()\n",
        "    self.gen = nn.Sequential(\n",
        "      self._block(z_dim, features_g*16, 4, 1, 0, bias = False),\n",
        "      self._block(features_g*16, features_g*8, 4, 2, 1, bias = False),\n",
        "      self._block(features_g*8, features_g*4, 4, 2, 1, bias = False),\n",
        "      self._block(features_g*4, features_g*2, 4, 2, 1, bias = False),\n",
        "      nn.ConvTranspose2d(features_g*2, channels_img, 4, 2, 1, bias = False),\n",
        "      nn.Tanh(),\n",
        "    )\n",
        "\n",
        "\n",
        "  def _block(self, in_channels, out_channels, kernel_size, stride, padding, bias = False):\n",
        "    return nn.Sequential(\n",
        "      nn.ConvTranspose2d(in_channels, out_channels, kernel_size, stride, padding, bias = False),\n",
        "      nn.BatchNorm2d(out_channels),\n",
        "      nn.ReLU(inplace=True),\n",
        "    )\n",
        "\n",
        "  def forward(self, x):\n",
        "    return self.gen(x)"
      ],
      "metadata": {
        "id": "sguAqELd8HK9"
      },
      "execution_count": 4,
      "outputs": []
    },
    {
      "cell_type": "code",
      "source": [
        "class Discriminator(nn.Module):\n",
        "  def __init__(self, channels_img, features_d):\n",
        "    super(Discriminator, self).__init__()\n",
        "    self.disc = nn.Sequential(\n",
        "      nn.Conv2d(channels_img, features_d, kernel_size=4, stride=2, padding=1, bias=False),\n",
        "      nn.LeakyReLU(0.2, inplace=True),\n",
        "      self._block(features_d, features_d*2, 4, 2, 1, bias=False),\n",
        "      self._block(features_d*2, features_d*4, 4, 2, 1, bias=False),\n",
        "      self._block(features_d*4, features_d*8, 4, 2, 1, bias=False),\n",
        "      nn.Conv2d(features_d*8, 1, kernel_size=4, stride=1, padding=0, bias=False),\n",
        "      nn.Sigmoid(),\n",
        "    )\n",
        "\n",
        "  \n",
        "  def _block(self, in_channels, out_channels, kernel_size, stride, padding, bias = False):\n",
        "    return nn.Sequential(\n",
        "      nn.Conv2d(in_channels, out_channels, kernel_size, stride, padding, bias = False),\n",
        "      nn.BatchNorm2d(out_channels),\n",
        "      nn.LeakyReLU(0.2, inplace=True),\n",
        "    )\n",
        "\n",
        "  def forward(self, x):\n",
        "    return self.disc(x)"
      ],
      "metadata": {
        "id": "PXWsSH4d8HN0"
      },
      "execution_count": 5,
      "outputs": []
    },
    {
      "cell_type": "code",
      "source": [
        "def initialize_weights(model):\n",
        "  for m in model.modules():\n",
        "    if isinstance(m, (nn.Conv2d, nn.ConvTranspose2d, nn.BatchNorm2d)):\n",
        "\n",
        "      nn.init.normal_(m.weight, mean=0, std=0.02)\n",
        "\n",
        "def denorm(x):\n",
        "  out = (x + 1) / 2\n",
        "  return out.clamp(0, 1)"
      ],
      "metadata": {
        "id": "A7c1RbG39Ujx"
      },
      "execution_count": 6,
      "outputs": []
    },
    {
      "cell_type": "code",
      "source": [
        "import torch.optim as optim\n",
        "import torchvision\n",
        "import torchvision.datasets as datasets\n",
        "import torchvision.transforms as transforms\n",
        "from torch.utils.data import DataLoader\n",
        "from torch.utils.tensorboard import SummaryWriter\n",
        "from torchvision.utils import save_image\n",
        "\n",
        "# Hyperparameters etc.\n",
        "device = torch.device(\"cuda\" if torch.cuda.is_available() else \"cpu\")\n",
        "LEARNING_RATE = 2e-4  # could also use two lrs, one for gen and one for disc\n",
        "BATCH_SIZE = 128\n",
        "IMAGE_SIZE = 64\n",
        "CHANNELS_IMG = 1\n",
        "NOISE_DIM = 100\n",
        "NUM_EPOCHS = 5\n",
        "FEATURES_DISC = 64\n",
        "FEATURES_GEN = 64\n",
        "transforms = transforms.Compose(\n",
        "    [\n",
        "        transforms.Resize(IMAGE_SIZE),\n",
        "        transforms.ToTensor(),\n",
        "        transforms.Normalize(\n",
        "            [0.5 for _ in range(CHANNELS_IMG)], [0.5 for _ in range(CHANNELS_IMG)]\n",
        "        ),\n",
        "    ]\n",
        ")\n",
        "\n",
        "# If you train on MNIST, remember to set channels_img to 1\n",
        "dataset = datasets.MNIST(root=\"dataset/\", train=True, transform=transforms,\n",
        "                       download=True)\n",
        "\n",
        "# comment mnist above and uncomment below if train on CelebA\n",
        "#dataset = datasets.ImageFolder(root=\"celeb_dataset\", transform=transforms)\n",
        "dataloader = DataLoader(dataset, batch_size=BATCH_SIZE, shuffle=True)\n",
        "gen = Generator(NOISE_DIM, CHANNELS_IMG, FEATURES_GEN).to(device)\n",
        "disc = Discriminator(CHANNELS_IMG, FEATURES_DISC).to(device)\n",
        "initialize_weights(gen)\n",
        "initialize_weights(disc)\n",
        "\n",
        "opt_gen = optim.Adam(gen.parameters(), lr=LEARNING_RATE, betas=(0.5, 0.999))\n",
        "opt_disc = optim.Adam(disc.parameters(), lr=LEARNING_RATE, betas=(0.5, 0.999))\n",
        "criterion = nn.BCELoss()\n",
        "\n",
        "fixed_noise = torch.randn(32, NOISE_DIM, 1, 1).to(device)\n",
        "writer_real = SummaryWriter(f\"logs/real\")\n",
        "writer_fake = SummaryWriter(f\"logs/fake\")\n",
        "step = 0\n",
        "\n",
        "gen.train()\n",
        "disc.train()\n",
        "\n",
        "for epoch in range(NUM_EPOCHS):\n",
        "    # Target labels not needed! <3 unsupervised\n",
        "    for batch_idx, (real, _) in enumerate(dataloader):\n",
        "        real = real.to(device)\n",
        "        noise = torch.randn(BATCH_SIZE, NOISE_DIM, 1, 1).to(device)\n",
        "        fake = gen(noise)\n",
        "\n",
        "        ### Train Discriminator: max log(D(x)) + log(1 - D(G(z)))\n",
        "        disc_real = disc(real).reshape(-1)\n",
        "        loss_disc_real = criterion(disc_real, torch.ones_like(disc_real))\n",
        "        disc_fake = disc(fake.detach()).reshape(-1)\n",
        "        loss_disc_fake = criterion(disc_fake, torch.zeros_like(disc_fake))\n",
        "        loss_disc = (loss_disc_real + loss_disc_fake) / 2\n",
        "        disc.zero_grad()\n",
        "        loss_disc.backward()\n",
        "        opt_disc.step()\n",
        "\n",
        "        ### Train Generator: min log(1 - D(G(z))) <-> max log(D(G(z))\n",
        "        output = disc(fake).reshape(-1)\n",
        "        loss_gen = criterion(output, torch.ones_like(output))\n",
        "        gen.zero_grad()\n",
        "        loss_gen.backward()\n",
        "        opt_gen.step()\n",
        "\n",
        "        # Print losses occasionally and print to tensorboard\n",
        "        if batch_idx % 100 == 0:\n",
        "            print(\n",
        "                f\"Epoch [{epoch}/{NUM_EPOCHS}] Batch {batch_idx}/{len(dataloader)} \\\n",
        "                  Loss D: {loss_disc:.4f}, loss G: {loss_gen:.4f}\"\n",
        "            )\n",
        "            save_image(denorm(fake.detach()), f\"images/{batch_idx}.png\")\n",
        "\n",
        "            with torch.no_grad():\n",
        "                fake = gen(fixed_noise)\n",
        "                # take out (up to) 32 examples\n",
        "                img_grid_real = torchvision.utils.make_grid(\n",
        "                    real[:32], normalize=True\n",
        "                )\n",
        "                img_grid_fake = torchvision.utils.make_grid(\n",
        "                    fake[:32], normalize=True\n",
        "                )\n",
        "\n",
        "                writer_real.add_image(\"Real\", img_grid_real, global_step=step)\n",
        "                writer_fake.add_image(\"Fake\", img_grid_fake, global_step=step)\n",
        "            step += 1"
      ],
      "metadata": {
        "colab": {
          "base_uri": "https://localhost:8080/"
        },
        "id": "JZKYuws58HQ0",
        "outputId": "f89f56b8-fa16-4762-8104-88a91dd3305e"
      },
      "execution_count": 8,
      "outputs": [
        {
          "output_type": "stream",
          "name": "stdout",
          "text": [
            "Epoch [0/5] Batch 0/469                   Loss D: 0.6927, loss G: 0.7039\n",
            "Epoch [0/5] Batch 100/469                   Loss D: 0.0145, loss G: 4.1803\n",
            "Epoch [0/5] Batch 200/469                   Loss D: 0.0043, loss G: 5.3020\n",
            "Epoch [0/5] Batch 300/469                   Loss D: 0.2967, loss G: 2.0884\n",
            "Epoch [0/5] Batch 400/469                   Loss D: 0.5023, loss G: 0.8054\n",
            "Epoch [1/5] Batch 0/469                   Loss D: 0.5258, loss G: 3.4703\n",
            "Epoch [1/5] Batch 100/469                   Loss D: 0.3241, loss G: 1.6199\n",
            "Epoch [1/5] Batch 200/469                   Loss D: 0.4841, loss G: 1.2232\n",
            "Epoch [1/5] Batch 300/469                   Loss D: 0.4298, loss G: 1.4435\n",
            "Epoch [1/5] Batch 400/469                   Loss D: 0.4864, loss G: 1.5969\n",
            "Epoch [2/5] Batch 0/469                   Loss D: 0.4349, loss G: 1.8920\n",
            "Epoch [2/5] Batch 100/469                   Loss D: 0.4429, loss G: 1.5381\n",
            "Epoch [2/5] Batch 200/469                   Loss D: 0.4915, loss G: 1.0780\n",
            "Epoch [2/5] Batch 300/469                   Loss D: 0.4891, loss G: 1.0677\n",
            "Epoch [2/5] Batch 400/469                   Loss D: 0.4009, loss G: 1.6313\n",
            "Epoch [3/5] Batch 0/469                   Loss D: 0.5292, loss G: 1.5070\n",
            "Epoch [3/5] Batch 100/469                   Loss D: 0.5223, loss G: 1.0581\n",
            "Epoch [3/5] Batch 200/469                   Loss D: 0.4590, loss G: 1.8154\n",
            "Epoch [3/5] Batch 300/469                   Loss D: 0.4247, loss G: 2.0013\n",
            "Epoch [3/5] Batch 400/469                   Loss D: 0.5601, loss G: 3.1965\n",
            "Epoch [4/5] Batch 0/469                   Loss D: 0.4401, loss G: 2.4465\n",
            "Epoch [4/5] Batch 100/469                   Loss D: 0.3282, loss G: 1.4881\n",
            "Epoch [4/5] Batch 200/469                   Loss D: 0.5370, loss G: 2.5632\n",
            "Epoch [4/5] Batch 300/469                   Loss D: 0.4207, loss G: 3.1776\n",
            "Epoch [4/5] Batch 400/469                   Loss D: 0.3440, loss G: 1.8062\n"
          ]
        }
      ]
    },
    {
      "cell_type": "code",
      "source": [],
      "metadata": {
        "id": "B13KmK498HTs"
      },
      "execution_count": null,
      "outputs": []
    },
    {
      "cell_type": "code",
      "source": [],
      "metadata": {
        "id": "2WqndqGs8HWr"
      },
      "execution_count": null,
      "outputs": []
    },
    {
      "cell_type": "code",
      "source": [],
      "metadata": {
        "id": "9KyEKcPE8HZh"
      },
      "execution_count": null,
      "outputs": []
    },
    {
      "cell_type": "code",
      "source": [],
      "metadata": {
        "id": "edMSAd6m8Hcq"
      },
      "execution_count": null,
      "outputs": []
    },
    {
      "cell_type": "code",
      "source": [],
      "metadata": {
        "id": "DjDFVbTK8HgD"
      },
      "execution_count": null,
      "outputs": []
    },
    {
      "cell_type": "code",
      "source": [],
      "metadata": {
        "id": "sDn0mUPO8HjV"
      },
      "execution_count": null,
      "outputs": []
    },
    {
      "cell_type": "code",
      "source": [],
      "metadata": {
        "id": "kRDNa8At8HmS"
      },
      "execution_count": null,
      "outputs": []
    },
    {
      "cell_type": "code",
      "source": [],
      "metadata": {
        "id": "px7IFEp38Hp7"
      },
      "execution_count": null,
      "outputs": []
    },
    {
      "cell_type": "code",
      "source": [],
      "metadata": {
        "id": "ILaexA1n8Hs9"
      },
      "execution_count": null,
      "outputs": []
    },
    {
      "cell_type": "code",
      "source": [],
      "metadata": {
        "id": "i7gkQIgU8Hv7"
      },
      "execution_count": null,
      "outputs": []
    }
  ]
}